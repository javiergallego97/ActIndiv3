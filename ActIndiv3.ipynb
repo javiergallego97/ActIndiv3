{
 "cells": [
  {
   "cell_type": "code",
   "execution_count": 1,
   "metadata": {},
   "outputs": [
    {
     "name": "stderr",
     "output_type": "stream",
     "text": [
      "ERROR: Invalid requirement: 'concurrent,'\n"
     ]
    }
   ],
   "source": [
    "!pip install concurrent, multiprocessing, time"
   ]
  },
  {
   "cell_type": "code",
   "execution_count": 3,
   "metadata": {},
   "outputs": [],
   "source": [
    "import concurrent.futures\n",
    "\n",
    "import multiprocessing as mp\n",
    "\n",
    "import time\n",
    "\n",
    "\n",
    "def mano_sum(inf, sup):\n",
    "\n",
    "    return sum(range(inf, sup))\n",
    "\n",
    "\n",
    "def par_sum(inf, sup, pool=None):\n",
    "\n",
    "    if not pool:\n",
    "\n",
    "        with concurrent.futures.ProcessPoolExecutor() as capataz:\n",
    "\n",
    "            trabajo_a_realizar = par_sum(inf, sup, pool=capataz)\n",
    "\n",
    "            return sum(trabajo_completado.result() for trabajo_completado in concurrent.futures.as_completed(trabajo_a_realizar))\n",
    "\n",
    "    else:\n",
    "\n",
    "        if sup - inf <= 30_000:  # caso base\n",
    "\n",
    "            return [pool.submit(sum, range(inf, sup))]\n",
    "\n",
    "        else:\n",
    "\n",
    "            mitad = (sup + inf) // 2\n",
    "\n",
    "            parte_izq = par_sum(inf, mitad, pool=pool)\n",
    "\n",
    "            parte_der = par_sum(mitad, sup, pool=pool)\n",
    "\n",
    "            return parte_izq + parte_der\n",
    "\n",
    "\n",
    "def calc_genoma (ini, fin):\n",
    "    \n",
    "    if __name__ == '__main__':\n",
    "\n",
    "        NUM_EVAL_RUNS = 1\n",
    "\n",
    "        # SUM_VALUE = 3_000_000\n",
    "\n",
    "\n",
    "        print('Calculando el resultado sin usar todos los cores...')\n",
    "\n",
    "        resultado_a_mano = mano_sum(ini, fin)\n",
    "\n",
    "        tiempo_a_mano = 0\n",
    "\n",
    "        for i in range(NUM_EVAL_RUNS):\n",
    "\n",
    "            inicio = time.perf_counter()\n",
    "\n",
    "            mano_sum(ini, fin)\n",
    "\n",
    "            tiempo_a_mano += time.perf_counter() - inicio\n",
    "\n",
    "        tiempo_a_mano /= NUM_EVAL_RUNS\n",
    "\n",
    "\n",
    "        print('Calculando el resultado usando todos los cores......')\n",
    "\n",
    "        resultado_a_toda_maquina = par_sum(ini, fin)\n",
    "\n",
    "        tiempo_a_toda_maquina = 0\n",
    "\n",
    "        for i in range(NUM_EVAL_RUNS):\n",
    "\n",
    "            inicio = time.perf_counter()\n",
    "\n",
    "            par_sum(ini, fin)\n",
    "\n",
    "            tiempo_a_toda_maquina += time.perf_counter() - inicio\n",
    "\n",
    "        tiempo_a_toda_maquina /= NUM_EVAL_RUNS\n",
    "\n",
    "\n",
    "        print('\\nTiempo_a_MANO: {:.2f} ms'.format(tiempo_a_mano * 1000))\n",
    "\n",
    "        print('\\nTiempo_a_toda_MAQUINA: {:.2f} ms'.format(tiempo_a_toda_maquina * 1000))\n",
    "\n",
    "        print('\\n\\nRelación entre tiempo a MANO y tiempo a toda MAQUINA: {:.2f}'.format(tiempo_a_mano / tiempo_a_toda_maquina))\n",
    "\n",
    "        print('\\nRelación entre la computación usando a mano VS a toda máquina: {:.2f}%'.format(100 * (tiempo_a_mano / tiempo_a_toda_maquina) / mp.cpu_count()))"
   ]
  },
  {
   "cell_type": "code",
   "execution_count": 4,
   "metadata": {},
   "outputs": [
    {
     "name": "stdout",
     "output_type": "stream",
     "text": [
      "Calculando el resultado sin usar todos los cores...\n",
      "Calculando el resultado usando todos los cores......\n",
      "\n",
      "Tiempo_a_MANO: 2188.30 ms\n",
      "\n",
      "Tiempo_a_toda_MAQUINA: 1759.71 ms\n",
      "\n",
      "\n",
      "Relación entre tiempo a MANO y tiempo a toda MAQUINA: 1.24\n",
      "\n",
      "Relación entre la computación usando a mano VS a toda máquina: 31.09%\n"
     ]
    }
   ],
   "source": [
    "calc_genoma(1, 30000000)"
   ]
  },
  {
   "cell_type": "code",
   "execution_count": null,
   "metadata": {},
   "outputs": [],
   "source": []
  }
 ],
 "metadata": {
  "kernelspec": {
   "display_name": "Python 3",
   "language": "python",
   "name": "python3"
  },
  "language_info": {
   "codemirror_mode": {
    "name": "ipython",
    "version": 3
   },
   "file_extension": ".py",
   "mimetype": "text/x-python",
   "name": "python",
   "nbconvert_exporter": "python",
   "pygments_lexer": "ipython3",
   "version": "3.8.5"
  }
 },
 "nbformat": 4,
 "nbformat_minor": 4
}
